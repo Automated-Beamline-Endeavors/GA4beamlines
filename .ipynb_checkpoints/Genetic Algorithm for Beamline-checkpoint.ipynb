{
 "cells": [
  {
   "cell_type": "code",
   "execution_count": 1,
   "metadata": {},
   "outputs": [
    {
     "name": "stdout",
     "output_type": "stream",
     "text": [
      "Imported!\n"
     ]
    }
   ],
   "source": [
    "import ga4beamlines as ga4b"
   ]
  },
  {
   "cell_type": "code",
   "execution_count": 2,
   "metadata": {},
   "outputs": [],
   "source": [
    "import pandas as pd\n",
    "import numpy as np"
   ]
  },
  {
   "cell_type": "code",
   "execution_count": 3,
   "metadata": {},
   "outputs": [],
   "source": [
    "testSMode = ga4b.sMode[0]\n",
    "testPMode = ga4b.pMode[0]\n",
    "testCXMode = ga4b.cxMode[0]\n",
    "testMMode = ga4b.mMode[0]"
   ]
  },
  {
   "cell_type": "code",
   "execution_count": 4,
   "metadata": {},
   "outputs": [],
   "source": [
    "#Setup parameters\n",
    "nGenerations = 500\n",
    "critVal = 0.9\n",
    "motors = [{\"name\": \"m1\", \"lo\": -5, \"hi\": 5, \"sigma\": 1},\n",
    "          {\"name\": \"m2\", \"lo\": -5, \"hi\": 5, \"sigma\": 1.5},\n",
    "          {\"name\": \"m3\", \"lo\": -5, \"hi\": 5, \"sigma\": 0.5},\n",
    "          {\"name\": \"m4\", \"lo\": -10, \"hi\": 5, \"sigma\": 2},\n",
    "          {\"name\": \"m5\", \"lo\": -5, \"hi\": 5, \"sigma\": 1},\n",
    "          {\"name\": \"m6\", \"lo\": -5, \"hi\": 8, \"sigma\": 1.25},\n",
    "          {\"name\": \"m7\", \"lo\": 0, \"hi\": 10, \"sigma\": 2},\n",
    "          {\"name\": \"m8\", \"lo\": -10, \"hi\": 10, \"sigma\": 3}]"
   ]
  },
  {
   "cell_type": "code",
   "execution_count": 5,
   "metadata": {},
   "outputs": [
    {
     "name": "stdout",
     "output_type": "stream",
     "text": [
      "                                              motor  fitness  ranking  \\\n",
      "0     {'name': 'm1', 'lo': -5, 'hi': 5, 'sigma': 1}      0.0      0.0   \n",
      "1   {'name': 'm2', 'lo': -5, 'hi': 5, 'sigma': 1.5}      0.0      0.0   \n",
      "2   {'name': 'm3', 'lo': -5, 'hi': 5, 'sigma': 0.5}      0.0      0.0   \n",
      "3    {'name': 'm4', 'lo': -10, 'hi': 5, 'sigma': 2}      0.0      0.0   \n",
      "4     {'name': 'm5', 'lo': -5, 'hi': 5, 'sigma': 1}      0.0      0.0   \n",
      "5  {'name': 'm6', 'lo': -5, 'hi': 8, 'sigma': 1.25}      0.0      0.0   \n",
      "6     {'name': 'm7', 'lo': 0, 'hi': 10, 'sigma': 2}      0.0      0.0   \n",
      "7   {'name': 'm8', 'lo': -10, 'hi': 10, 'sigma': 3}      0.0      0.0   \n",
      "\n",
      "   probability  \n",
      "0          0.0  \n",
      "1          0.0  \n",
      "2          0.0  \n",
      "3          0.0  \n",
      "4          0.0  \n",
      "5          0.0  \n",
      "6          0.0  \n",
      "7          0.0  \n"
     ]
    }
   ],
   "source": [
    "pop = ga4b.GA4Beamline(motors = motors, survivorMode = testSMode, parentMode = testPMode, \n",
    "                       cxMode = testCXMode, mutationMode = testMMode, fitness = \"Func\")"
   ]
  },
  {
   "cell_type": "code",
   "execution_count": 6,
   "metadata": {},
   "outputs": [
    {
     "ename": "MethodError",
     "evalue": "fish is not a valid method for Survivor Selection.",
     "output_type": "error",
     "traceback": [
      "\u001b[1;31m---------------------------------------------------------------------------\u001b[0m",
      "\u001b[1;31mMethodError\u001b[0m                               Traceback (most recent call last)",
      "\u001b[1;32m<ipython-input-6-c5ee46035836>\u001b[0m in \u001b[0;36m<module>\u001b[1;34m\u001b[0m\n\u001b[0;32m      1\u001b[0m popTest = ga4b.GA4Beamline(motors = motors, survivorMode = {\"name\": \"fish\", \"nElite\": 2}, parentMode = testPMode, \n\u001b[1;32m----> 2\u001b[1;33m                        cxMode = testCXMode, mutationMode = testMMode, fitness = \"Func\")\n\u001b[0m",
      "\u001b[1;32m~\\Documents\\Programs\\Python Scripts\\JupyterNotebooks\\GA4beamlines\\ga4beamlines.py\u001b[0m in \u001b[0;36m__init__\u001b[1;34m(self, motors, survivorMode, parentMode, cxMode, mutationMode, fitness, nPop, initPop, OM)\u001b[0m\n\u001b[0;32m     56\u001b[0m         \u001b[0mself\u001b[0m\u001b[1;33m.\u001b[0m\u001b[0mmotors\u001b[0m \u001b[1;33m=\u001b[0m \u001b[0mmotors\u001b[0m\u001b[1;33m\u001b[0m\u001b[1;33m\u001b[0m\u001b[0m\n\u001b[0;32m     57\u001b[0m         \u001b[0mself\u001b[0m\u001b[1;33m.\u001b[0m\u001b[0mgeneration\u001b[0m \u001b[1;33m=\u001b[0m \u001b[1;36m1\u001b[0m\u001b[1;33m\u001b[0m\u001b[1;33m\u001b[0m\u001b[0m\n\u001b[1;32m---> 58\u001b[1;33m         \u001b[0mself\u001b[0m\u001b[1;33m.\u001b[0m\u001b[0msSel\u001b[0m \u001b[1;33m=\u001b[0m \u001b[0mself\u001b[0m\u001b[1;33m.\u001b[0m\u001b[0m_VerifySurvivorMode\u001b[0m\u001b[1;33m(\u001b[0m\u001b[0msurvivorMode\u001b[0m\u001b[1;33m)\u001b[0m\u001b[1;33m\u001b[0m\u001b[1;33m\u001b[0m\u001b[0m\n\u001b[0m\u001b[0;32m     59\u001b[0m         \u001b[0mself\u001b[0m\u001b[1;33m.\u001b[0m\u001b[0mpSel\u001b[0m \u001b[1;33m=\u001b[0m \u001b[0mself\u001b[0m\u001b[1;33m.\u001b[0m\u001b[0m_VerifyParentMode\u001b[0m\u001b[1;33m(\u001b[0m\u001b[0mparentMode\u001b[0m\u001b[1;33m)\u001b[0m\u001b[1;33m\u001b[0m\u001b[1;33m\u001b[0m\u001b[0m\n\u001b[0;32m     60\u001b[0m         \u001b[0mself\u001b[0m\u001b[1;33m.\u001b[0m\u001b[0mcxMode\u001b[0m \u001b[1;33m=\u001b[0m \u001b[0mself\u001b[0m\u001b[1;33m.\u001b[0m\u001b[0m_VerifyCXMode\u001b[0m\u001b[1;33m(\u001b[0m\u001b[0mcxMode\u001b[0m\u001b[1;33m)\u001b[0m\u001b[1;33m\u001b[0m\u001b[1;33m\u001b[0m\u001b[0m\n",
      "\u001b[1;32m~\\Documents\\Programs\\Python Scripts\\JupyterNotebooks\\GA4beamlines\\ga4beamlines.py\u001b[0m in \u001b[0;36m_VerifySurvivorMode\u001b[1;34m(self, survivorMode)\u001b[0m\n\u001b[0;32m    255\u001b[0m \u001b[1;33m\u001b[0m\u001b[0m\n\u001b[0;32m    256\u001b[0m         \u001b[1;32mif\u001b[0m \u001b[1;32mnot\u001b[0m \u001b[0mvalid\u001b[0m\u001b[1;33m:\u001b[0m\u001b[1;33m\u001b[0m\u001b[1;33m\u001b[0m\u001b[0m\n\u001b[1;32m--> 257\u001b[1;33m             \u001b[1;32mraise\u001b[0m \u001b[0mMethodError\u001b[0m\u001b[1;33m(\u001b[0m\u001b[0mmessage\u001b[0m \u001b[1;33m=\u001b[0m \u001b[1;34mf\"{survivorMode['name']} is not a valid method for Survivor Selection.\"\u001b[0m\u001b[1;33m)\u001b[0m\u001b[1;33m\u001b[0m\u001b[1;33m\u001b[0m\u001b[0m\n\u001b[0m\u001b[0;32m    258\u001b[0m \u001b[1;33m\u001b[0m\u001b[0m\n\u001b[0;32m    259\u001b[0m         \u001b[1;32mreturn\u001b[0m \u001b[0mtmpDict\u001b[0m\u001b[1;33m\u001b[0m\u001b[1;33m\u001b[0m\u001b[0m\n",
      "\u001b[1;31mMethodError\u001b[0m: fish is not a valid method for Survivor Selection."
     ]
    }
   ],
   "source": [
    "popTest = ga4b.GA4Beamline(motors = motors, survivorMode = {\"name\": \"fish\", \"nElite\": 2}, parentMode = testPMode, \n",
    "                       cxMode = testCXMode, mutationMode = testMMode, fitness = \"Func\")"
   ]
  },
  {
   "cell_type": "code",
   "execution_count": null,
   "metadata": {},
   "outputs": [],
   "source": []
  }
 ],
 "metadata": {
  "kernelspec": {
   "display_name": "Python 3",
   "language": "python",
   "name": "python3"
  },
  "language_info": {
   "codemirror_mode": {
    "name": "ipython",
    "version": 3
   },
   "file_extension": ".py",
   "mimetype": "text/x-python",
   "name": "python",
   "nbconvert_exporter": "python",
   "pygments_lexer": "ipython3",
   "version": "3.7.4"
  }
 },
 "nbformat": 4,
 "nbformat_minor": 2
}
