{
 "cells": [
  {
   "cell_type": "code",
   "execution_count": 1,
   "metadata": {},
   "outputs": [
    {
     "name": "stdout",
     "output_type": "stream",
     "text": [
      "Imported!\n",
      "I've been imported!\n"
     ]
    }
   ],
   "source": [
    "import ga4beamlines as ga4b"
   ]
  },
  {
   "cell_type": "code",
   "execution_count": 2,
   "metadata": {},
   "outputs": [],
   "source": [
    "import pandas as pd\n",
    "import numpy as np"
   ]
  },
  {
   "cell_type": "code",
   "execution_count": 3,
   "metadata": {},
   "outputs": [],
   "source": [
    "testSMode = ga4b.sMode[0]\n",
    "testPMode = ga4b.pMode[0]\n",
    "testCXMode = ga4b.cxMode[0]\n",
    "testMMode = ga4b.mMode[0]\n",
    "testFMode = ga4b.fMode[0]"
   ]
  },
  {
   "cell_type": "code",
   "execution_count": 4,
   "metadata": {},
   "outputs": [],
   "source": [
    "#Setup parameters\n",
    "nGenerations = 500\n",
    "critVal = 0.9\n",
    "motors = [{\"name\": \"m1\", \"lo\": -5, \"hi\": 5, \"sigma\": 1},\n",
    "          {\"name\": \"m2\", \"lo\": -5, \"hi\": 5, \"sigma\": 1.5},\n",
    "          {\"name\": \"m3\", \"lo\": -5, \"hi\": 5, \"sigma\": 0.5},\n",
    "          {\"name\": \"m4\", \"lo\": -10, \"hi\": 5, \"sigma\": 2},\n",
    "          {\"name\": \"m5\", \"lo\": -5, \"hi\": 5, \"sigma\": 1},\n",
    "          {\"name\": \"m6\", \"lo\": -5, \"hi\": 8, \"sigma\": 1.25},\n",
    "          {\"name\": \"m7\", \"lo\": 0, \"hi\": 10, \"sigma\": 2},\n",
    "          {\"name\": \"m8\", \"lo\": -10, \"hi\": 10, \"sigma\": 3}]"
   ]
  },
  {
   "cell_type": "code",
   "execution_count": 5,
   "metadata": {},
   "outputs": [],
   "source": [
    "pop = ga4b.GA4Beamline(motors = motors, survivorMode = {\"name\": \"age\", \"nElite\": 2}, parentMode = testPMode, \n",
    "                       cxMode = {\"name\": \"whole\", \"alpha\": 0.75}, mutationMode = testMMode, fitness = testFMode)"
   ]
  },
  {
   "cell_type": "code",
   "execution_count": 6,
   "metadata": {},
   "outputs": [],
   "source": [
    "pop.Measure(childrenOnly = False)"
   ]
  },
  {
   "cell_type": "code",
   "execution_count": 7,
   "metadata": {},
   "outputs": [
    {
     "name": "stdout",
     "output_type": "stream",
     "text": [
      "In survivor selection!\n"
     ]
    }
   ],
   "source": [
    "pop.SurvivorSel()"
   ]
  },
  {
   "cell_type": "code",
   "execution_count": 8,
   "metadata": {},
   "outputs": [
    {
     "name": "stdout",
     "output_type": "stream",
     "text": [
      "\n",
      "Inside StochasticUnivSampling\n",
      "\n",
      "The parents are:\n",
      "[1, 1, 2, 3, 4, 5, 7, 9]\n"
     ]
    }
   ],
   "source": [
    "pop.ParentSel()"
   ]
  },
  {
   "cell_type": "code",
   "execution_count": 9,
   "metadata": {},
   "outputs": [
    {
     "name": "stdout",
     "output_type": "stream",
     "text": [
      "\n",
      "In CreatePairs\n",
      "\n",
      "The pairs are:\n",
      "[[5, 7], [3, 3], [1, 9], [9, 1], [5, 5], [7, 3], [1, 4], [1, 9]]\n",
      "\n",
      "Inside Recombination\n",
      "\n",
      "mode is:{'name': 'simple', 'alpha': 0.75}\n",
      "\n",
      "Inside Recombination\n",
      "\n",
      "mode is:{'name': 'simple', 'alpha': 0.75}\n",
      "\n",
      "Inside Recombination\n",
      "\n",
      "mode is:{'name': 'simple', 'alpha': 0.75}\n",
      "\n",
      "Inside Recombination\n",
      "\n",
      "mode is:{'name': 'simple', 'alpha': 0.75}\n",
      "\n",
      "Inside Recombination\n",
      "\n",
      "mode is:{'name': 'simple', 'alpha': 0.75}\n",
      "\n",
      "Inside Recombination\n",
      "\n",
      "mode is:{'name': 'simple', 'alpha': 0.75}\n",
      "\n",
      "Inside Recombination\n",
      "\n",
      "mode is:{'name': 'simple', 'alpha': 0.75}\n",
      "\n",
      "Inside Recombination\n",
      "\n",
      "mode is:{'name': 'simple', 'alpha': 0.75}\n",
      "\n",
      "children is:\n",
      "          m1        m2        m3        m4        m5        m6        m7  \\\n",
      "0   2.627265  1.244019  2.306893  4.168482  1.010654  5.331983  5.523313   \n",
      "1   0.180753 -2.963640 -0.889554 -5.271923  0.777637  3.346427  3.385847   \n",
      "2  -0.536509 -3.601747 -3.722424  0.725354  4.360503 -0.051756  9.815732   \n",
      "3  -0.536509 -3.601747 -3.722424  0.725354  4.360503 -0.051756  9.815732   \n",
      "4   1.178915  2.594483  2.765551 -3.704355 -2.705808  2.989055  5.125420   \n",
      "5   1.686348  1.709423  2.529705  0.774533 -2.671631  0.419685  3.724454   \n",
      "6   0.925198  3.037013  2.529705  0.774533 -2.671631  0.419685  3.724454   \n",
      "7   1.940065  1.266893  2.765551 -3.704355 -2.705808  2.989055  5.125420   \n",
      "8   2.627265  1.244019  2.306893  4.168482  0.661129  2.353648  2.317113   \n",
      "9   2.627265  1.244019  2.306893  4.168482  0.661129  2.353648  2.317113   \n",
      "10  0.180753 -2.963640 -3.014207 -0.773965  3.552168  1.542373  9.009811   \n",
      "11 -0.536509 -3.601747 -1.597772 -3.772604  1.935497  4.730632  7.397968   \n",
      "12  1.940065 -1.054572 -1.492376 -3.514621 -2.549431  1.529912  1.534506   \n",
      "13 -2.020581  0.493071  1.110396  0.837777 -2.619506 -0.066696  2.527483   \n",
      "14  1.940065  1.266893  2.411782  3.013977 -2.654543  2.989055  5.125420   \n",
      "15  0.925198  3.037013  2.883475 -5.943799 -2.722896  0.419685  3.724454   \n",
      "\n",
      "          m8   fitness  ranking  probability  \n",
      "0  -2.015487  0.225120     2.50     0.077778  \n",
      "1  -4.728708  0.234593     3.50     0.088889  \n",
      "2   1.418089  0.287450     6.00     0.116667  \n",
      "3   1.418089  0.287450     6.00     0.116667  \n",
      "4  -5.347586  0.193118     2.00     0.072222  \n",
      "5  -2.758035  0.290612     6.00     0.116667  \n",
      "6  -2.758035  0.290612     6.00     0.116667  \n",
      "7  -5.347586  0.193118     2.00     0.072222  \n",
      "8  -6.085318  0.239330     4.00     0.094444  \n",
      "9  -6.085318  0.239330     4.00     0.094444  \n",
      "10  0.898848  0.270683     5.00     0.105556  \n",
      "11 -0.139635  0.237150     3.00     0.083333  \n",
      "12  0.571055  0.266766     5.75     0.113889  \n",
      "13 -0.785154  0.315161     7.25     0.130556  \n",
      "14 -5.347586  0.193118     2.00     0.072222  \n",
      "15 -2.758035  0.290612     6.00     0.116667  \n"
     ]
    }
   ],
   "source": [
    "pop.Recombine()"
   ]
  },
  {
   "cell_type": "code",
   "execution_count": null,
   "metadata": {},
   "outputs": [],
   "source": []
  },
  {
   "cell_type": "code",
   "execution_count": 10,
   "metadata": {},
   "outputs": [],
   "source": [
    "pop.FitnessFunc(pop.population)"
   ]
  },
  {
   "cell_type": "code",
   "execution_count": 11,
   "metadata": {},
   "outputs": [],
   "source": [
    "pop.RankPop()"
   ]
  },
  {
   "cell_type": "code",
   "execution_count": 12,
   "metadata": {},
   "outputs": [],
   "source": [
    "pop.CalcProb(\"fitness\")"
   ]
  },
  {
   "cell_type": "code",
   "execution_count": 13,
   "metadata": {},
   "outputs": [],
   "source": [
    "pop.CalcProb(\"rank\")"
   ]
  },
  {
   "cell_type": "code",
   "execution_count": null,
   "metadata": {},
   "outputs": [],
   "source": []
  },
  {
   "cell_type": "code",
   "execution_count": null,
   "metadata": {},
   "outputs": [],
   "source": []
  },
  {
   "cell_type": "code",
   "execution_count": 14,
   "metadata": {},
   "outputs": [],
   "source": [
    "pop = ga4b.GA4Beamline(motors = motors, survivorMode = testSMode, parentMode = testPMode, \n",
    "                       cxMode = testCXMode, mutationMode = testMMode, fitness = testFMode)"
   ]
  },
  {
   "cell_type": "code",
   "execution_count": 15,
   "metadata": {},
   "outputs": [
    {
     "ename": "KeyError",
     "evalue": "'bestFitness'",
     "output_type": "error",
     "traceback": [
      "\u001b[1;31m---------------------------------------------------------------------------\u001b[0m",
      "\u001b[1;31mKeyError\u001b[0m                                  Traceback (most recent call last)",
      "\u001b[1;32m~\\Anaconda3\\lib\\site-packages\\pandas\\core\\indexes\\base.py\u001b[0m in \u001b[0;36mget_loc\u001b[1;34m(self, key, method, tolerance)\u001b[0m\n\u001b[0;32m   2896\u001b[0m             \u001b[1;32mtry\u001b[0m\u001b[1;33m:\u001b[0m\u001b[1;33m\u001b[0m\u001b[1;33m\u001b[0m\u001b[0m\n\u001b[1;32m-> 2897\u001b[1;33m                 \u001b[1;32mreturn\u001b[0m \u001b[0mself\u001b[0m\u001b[1;33m.\u001b[0m\u001b[0m_engine\u001b[0m\u001b[1;33m.\u001b[0m\u001b[0mget_loc\u001b[0m\u001b[1;33m(\u001b[0m\u001b[0mkey\u001b[0m\u001b[1;33m)\u001b[0m\u001b[1;33m\u001b[0m\u001b[1;33m\u001b[0m\u001b[0m\n\u001b[0m\u001b[0;32m   2898\u001b[0m             \u001b[1;32mexcept\u001b[0m \u001b[0mKeyError\u001b[0m\u001b[1;33m:\u001b[0m\u001b[1;33m\u001b[0m\u001b[1;33m\u001b[0m\u001b[0m\n",
      "\u001b[1;32mpandas\\_libs\\index.pyx\u001b[0m in \u001b[0;36mpandas._libs.index.IndexEngine.get_loc\u001b[1;34m()\u001b[0m\n",
      "\u001b[1;32mpandas\\_libs\\index.pyx\u001b[0m in \u001b[0;36mpandas._libs.index.IndexEngine.get_loc\u001b[1;34m()\u001b[0m\n",
      "\u001b[1;32mpandas\\_libs\\hashtable_class_helper.pxi\u001b[0m in \u001b[0;36mpandas._libs.hashtable.PyObjectHashTable.get_item\u001b[1;34m()\u001b[0m\n",
      "\u001b[1;32mpandas\\_libs\\hashtable_class_helper.pxi\u001b[0m in \u001b[0;36mpandas._libs.hashtable.PyObjectHashTable.get_item\u001b[1;34m()\u001b[0m\n",
      "\u001b[1;31mKeyError\u001b[0m: 'bestFitness'",
      "\nDuring handling of the above exception, another exception occurred:\n",
      "\u001b[1;31mKeyError\u001b[0m                                  Traceback (most recent call last)",
      "\u001b[1;32m<ipython-input-15-cbf6b04200b1>\u001b[0m in \u001b[0;36m<module>\u001b[1;34m\u001b[0m\n\u001b[0;32m      2\u001b[0m \u001b[0mpop\u001b[0m\u001b[1;33m.\u001b[0m\u001b[0mMeasure\u001b[0m\u001b[1;33m(\u001b[0m\u001b[0mchildrenOnly\u001b[0m \u001b[1;33m=\u001b[0m \u001b[1;32mFalse\u001b[0m\u001b[1;33m)\u001b[0m\u001b[1;33m\u001b[0m\u001b[1;33m\u001b[0m\u001b[0m\n\u001b[0;32m      3\u001b[0m \u001b[1;33m\u001b[0m\u001b[0m\n\u001b[1;32m----> 4\u001b[1;33m \u001b[1;32mwhile\u001b[0m \u001b[0mpop\u001b[0m\u001b[1;33m.\u001b[0m\u001b[0mfitHistory\u001b[0m\u001b[1;33m[\u001b[0m\u001b[1;34m\"bestFitness\"\u001b[0m\u001b[1;33m]\u001b[0m \u001b[1;33m<\u001b[0m \u001b[0mcritVal\u001b[0m \u001b[1;32mor\u001b[0m \u001b[0mpop\u001b[0m\u001b[1;33m.\u001b[0m\u001b[0mgeneration\u001b[0m \u001b[1;33m<\u001b[0m \u001b[0mnGenerations\u001b[0m\u001b[1;33m:\u001b[0m\u001b[1;33m\u001b[0m\u001b[1;33m\u001b[0m\u001b[0m\n\u001b[0m\u001b[0;32m      5\u001b[0m     \u001b[0mpop\u001b[0m\u001b[1;33m.\u001b[0m\u001b[0mSurvivorSel\u001b[0m\u001b[1;33m(\u001b[0m\u001b[1;33m)\u001b[0m\u001b[1;33m\u001b[0m\u001b[1;33m\u001b[0m\u001b[0m\n\u001b[0;32m      6\u001b[0m     \u001b[0mpop\u001b[0m\u001b[1;33m.\u001b[0m\u001b[0mParentSel\u001b[0m\u001b[1;33m(\u001b[0m\u001b[1;33m)\u001b[0m\u001b[1;33m\u001b[0m\u001b[1;33m\u001b[0m\u001b[0m\n",
      "\u001b[1;32m~\\Anaconda3\\lib\\site-packages\\pandas\\core\\frame.py\u001b[0m in \u001b[0;36m__getitem__\u001b[1;34m(self, key)\u001b[0m\n\u001b[0;32m   2978\u001b[0m             \u001b[1;32mif\u001b[0m \u001b[0mself\u001b[0m\u001b[1;33m.\u001b[0m\u001b[0mcolumns\u001b[0m\u001b[1;33m.\u001b[0m\u001b[0mnlevels\u001b[0m \u001b[1;33m>\u001b[0m \u001b[1;36m1\u001b[0m\u001b[1;33m:\u001b[0m\u001b[1;33m\u001b[0m\u001b[1;33m\u001b[0m\u001b[0m\n\u001b[0;32m   2979\u001b[0m                 \u001b[1;32mreturn\u001b[0m \u001b[0mself\u001b[0m\u001b[1;33m.\u001b[0m\u001b[0m_getitem_multilevel\u001b[0m\u001b[1;33m(\u001b[0m\u001b[0mkey\u001b[0m\u001b[1;33m)\u001b[0m\u001b[1;33m\u001b[0m\u001b[1;33m\u001b[0m\u001b[0m\n\u001b[1;32m-> 2980\u001b[1;33m             \u001b[0mindexer\u001b[0m \u001b[1;33m=\u001b[0m \u001b[0mself\u001b[0m\u001b[1;33m.\u001b[0m\u001b[0mcolumns\u001b[0m\u001b[1;33m.\u001b[0m\u001b[0mget_loc\u001b[0m\u001b[1;33m(\u001b[0m\u001b[0mkey\u001b[0m\u001b[1;33m)\u001b[0m\u001b[1;33m\u001b[0m\u001b[1;33m\u001b[0m\u001b[0m\n\u001b[0m\u001b[0;32m   2981\u001b[0m             \u001b[1;32mif\u001b[0m \u001b[0mis_integer\u001b[0m\u001b[1;33m(\u001b[0m\u001b[0mindexer\u001b[0m\u001b[1;33m)\u001b[0m\u001b[1;33m:\u001b[0m\u001b[1;33m\u001b[0m\u001b[1;33m\u001b[0m\u001b[0m\n\u001b[0;32m   2982\u001b[0m                 \u001b[0mindexer\u001b[0m \u001b[1;33m=\u001b[0m \u001b[1;33m[\u001b[0m\u001b[0mindexer\u001b[0m\u001b[1;33m]\u001b[0m\u001b[1;33m\u001b[0m\u001b[1;33m\u001b[0m\u001b[0m\n",
      "\u001b[1;32m~\\Anaconda3\\lib\\site-packages\\pandas\\core\\indexes\\base.py\u001b[0m in \u001b[0;36mget_loc\u001b[1;34m(self, key, method, tolerance)\u001b[0m\n\u001b[0;32m   2897\u001b[0m                 \u001b[1;32mreturn\u001b[0m \u001b[0mself\u001b[0m\u001b[1;33m.\u001b[0m\u001b[0m_engine\u001b[0m\u001b[1;33m.\u001b[0m\u001b[0mget_loc\u001b[0m\u001b[1;33m(\u001b[0m\u001b[0mkey\u001b[0m\u001b[1;33m)\u001b[0m\u001b[1;33m\u001b[0m\u001b[1;33m\u001b[0m\u001b[0m\n\u001b[0;32m   2898\u001b[0m             \u001b[1;32mexcept\u001b[0m \u001b[0mKeyError\u001b[0m\u001b[1;33m:\u001b[0m\u001b[1;33m\u001b[0m\u001b[1;33m\u001b[0m\u001b[0m\n\u001b[1;32m-> 2899\u001b[1;33m                 \u001b[1;32mreturn\u001b[0m \u001b[0mself\u001b[0m\u001b[1;33m.\u001b[0m\u001b[0m_engine\u001b[0m\u001b[1;33m.\u001b[0m\u001b[0mget_loc\u001b[0m\u001b[1;33m(\u001b[0m\u001b[0mself\u001b[0m\u001b[1;33m.\u001b[0m\u001b[0m_maybe_cast_indexer\u001b[0m\u001b[1;33m(\u001b[0m\u001b[0mkey\u001b[0m\u001b[1;33m)\u001b[0m\u001b[1;33m)\u001b[0m\u001b[1;33m\u001b[0m\u001b[1;33m\u001b[0m\u001b[0m\n\u001b[0m\u001b[0;32m   2900\u001b[0m         \u001b[0mindexer\u001b[0m \u001b[1;33m=\u001b[0m \u001b[0mself\u001b[0m\u001b[1;33m.\u001b[0m\u001b[0mget_indexer\u001b[0m\u001b[1;33m(\u001b[0m\u001b[1;33m[\u001b[0m\u001b[0mkey\u001b[0m\u001b[1;33m]\u001b[0m\u001b[1;33m,\u001b[0m \u001b[0mmethod\u001b[0m\u001b[1;33m=\u001b[0m\u001b[0mmethod\u001b[0m\u001b[1;33m,\u001b[0m \u001b[0mtolerance\u001b[0m\u001b[1;33m=\u001b[0m\u001b[0mtolerance\u001b[0m\u001b[1;33m)\u001b[0m\u001b[1;33m\u001b[0m\u001b[1;33m\u001b[0m\u001b[0m\n\u001b[0;32m   2901\u001b[0m         \u001b[1;32mif\u001b[0m \u001b[0mindexer\u001b[0m\u001b[1;33m.\u001b[0m\u001b[0mndim\u001b[0m \u001b[1;33m>\u001b[0m \u001b[1;36m1\u001b[0m \u001b[1;32mor\u001b[0m \u001b[0mindexer\u001b[0m\u001b[1;33m.\u001b[0m\u001b[0msize\u001b[0m \u001b[1;33m>\u001b[0m \u001b[1;36m1\u001b[0m\u001b[1;33m:\u001b[0m\u001b[1;33m\u001b[0m\u001b[1;33m\u001b[0m\u001b[0m\n",
      "\u001b[1;32mpandas\\_libs\\index.pyx\u001b[0m in \u001b[0;36mpandas._libs.index.IndexEngine.get_loc\u001b[1;34m()\u001b[0m\n",
      "\u001b[1;32mpandas\\_libs\\index.pyx\u001b[0m in \u001b[0;36mpandas._libs.index.IndexEngine.get_loc\u001b[1;34m()\u001b[0m\n",
      "\u001b[1;32mpandas\\_libs\\hashtable_class_helper.pxi\u001b[0m in \u001b[0;36mpandas._libs.hashtable.PyObjectHashTable.get_item\u001b[1;34m()\u001b[0m\n",
      "\u001b[1;32mpandas\\_libs\\hashtable_class_helper.pxi\u001b[0m in \u001b[0;36mpandas._libs.hashtable.PyObjectHashTable.get_item\u001b[1;34m()\u001b[0m\n",
      "\u001b[1;31mKeyError\u001b[0m: 'bestFitness'"
     ]
    }
   ],
   "source": [
    "#Evolve population until nGenerations exceeded or critVal achieved\n",
    "pop.Measure(childrenOnly = False)\n",
    "\n",
    "while pop.fitHistory[\"bestFitness\"] < critVal or pop.generation < nGenerations:\n",
    "    pop.SurvivorSel()\n",
    "    pop.ParentSel()\n",
    "    pop.Recombine()\n",
    "    pop.Mutate()\n",
    "    pop.Measure()\n",
    "    #Print/plot updates after each generation if desired"
   ]
  },
  {
   "cell_type": "code",
   "execution_count": null,
   "metadata": {},
   "outputs": [],
   "source": [
    "lst1 = [1,2,3,4]\n",
    "lst2 = [5,6,7,8]\n",
    "lst3 = [9,10,11,12]\n",
    "\n",
    "df = pd.DataFrame({\"item1\": lst1, \"item2\": lst2, \"item3\": lst3})\n",
    "df"
   ]
  },
  {
   "cell_type": "code",
   "execution_count": null,
   "metadata": {},
   "outputs": [],
   "source": [
    "lst4 = [13,14,15]\n",
    "lst5 = [16,17,18]"
   ]
  },
  {
   "cell_type": "code",
   "execution_count": null,
   "metadata": {},
   "outputs": [],
   "source": [
    "df.iloc[0:2,:] = lst4,lst5\n",
    "df"
   ]
  },
  {
   "cell_type": "code",
   "execution_count": null,
   "metadata": {},
   "outputs": [],
   "source": [
    "tmpDF = pd.DataFrame({\"item1\": [], \"item2\": [], \"item3\": []})\n",
    "tmpDF"
   ]
  },
  {
   "cell_type": "code",
   "execution_count": null,
   "metadata": {},
   "outputs": [],
   "source": [
    "tmpDF.iloc[0,:] = lst4\n",
    "tmpDF"
   ]
  },
  {
   "cell_type": "code",
   "execution_count": null,
   "metadata": {},
   "outputs": [],
   "source": [
    "tmp = {\"fish\": [], \"chicken\": []}\n",
    "tmp"
   ]
  },
  {
   "cell_type": "code",
   "execution_count": null,
   "metadata": {},
   "outputs": [],
   "source": [
    "for i in tmp:\n",
    "    print(i)"
   ]
  },
  {
   "cell_type": "code",
   "execution_count": null,
   "metadata": {},
   "outputs": [],
   "source": [
    "np.add(lst1, lst2)"
   ]
  },
  {
   "cell_type": "code",
   "execution_count": null,
   "metadata": {},
   "outputs": [],
   "source": [
    "np.add(np.multiply(lst1, 0.5), np.multiply(lst2, 0.5))"
   ]
  },
  {
   "cell_type": "code",
   "execution_count": null,
   "metadata": {},
   "outputs": [],
   "source": []
  }
 ],
 "metadata": {
  "kernelspec": {
   "display_name": "Python 3",
   "language": "python",
   "name": "python3"
  },
  "language_info": {
   "codemirror_mode": {
    "name": "ipython",
    "version": 3
   },
   "file_extension": ".py",
   "mimetype": "text/x-python",
   "name": "python",
   "nbconvert_exporter": "python",
   "pygments_lexer": "ipython3",
   "version": "3.7.4"
  }
 },
 "nbformat": 4,
 "nbformat_minor": 2
}
