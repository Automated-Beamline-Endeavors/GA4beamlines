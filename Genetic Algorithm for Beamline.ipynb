{
 "cells": [
  {
   "cell_type": "code",
   "execution_count": 1,
   "metadata": {},
   "outputs": [
    {
     "name": "stdout",
     "output_type": "stream",
     "text": [
      "Imported!\n",
      "I've been imported!\n"
     ]
    }
   ],
   "source": [
    "import ga4beamlines as ga4b"
   ]
  },
  {
   "cell_type": "code",
   "execution_count": 2,
   "metadata": {},
   "outputs": [],
   "source": [
    "import pandas as pd\n",
    "import numpy as np"
   ]
  },
  {
   "cell_type": "code",
   "execution_count": 3,
   "metadata": {},
   "outputs": [],
   "source": [
    "testSMode = ga4b.sMode[0]\n",
    "testPMode = ga4b.pMode[0]\n",
    "testCXMode = ga4b.cxMode[0]\n",
    "testMMode = ga4b.mMode[0]\n",
    "testFMode = ga4b.fMode[0]"
   ]
  },
  {
   "cell_type": "code",
   "execution_count": 4,
   "metadata": {},
   "outputs": [],
   "source": [
    "#Setup parameters\n",
    "nGenerations = 500\n",
    "critVal = 0.9\n",
    "motors = [{\"name\": \"m1\", \"lo\": -5, \"hi\": 5, \"sigma\": 1},\n",
    "          {\"name\": \"m2\", \"lo\": -5, \"hi\": 5, \"sigma\": 1.5},\n",
    "          {\"name\": \"m3\", \"lo\": -5, \"hi\": 5, \"sigma\": 0.5},\n",
    "          {\"name\": \"m4\", \"lo\": -10, \"hi\": 5, \"sigma\": 2},\n",
    "          {\"name\": \"m5\", \"lo\": -5, \"hi\": 5, \"sigma\": 1},\n",
    "          {\"name\": \"m6\", \"lo\": -5, \"hi\": 8, \"sigma\": 1.25},\n",
    "          {\"name\": \"m7\", \"lo\": 0, \"hi\": 10, \"sigma\": 2},\n",
    "          {\"name\": \"m8\", \"lo\": -10, \"hi\": 10, \"sigma\": 3}]"
   ]
  },
  {
   "cell_type": "code",
   "execution_count": 5,
   "metadata": {},
   "outputs": [],
   "source": [
    "pop = ga4b.GA4Beamline(motors = motors, survivorMode = {\"name\": \"age\", \"nElite\": 5}, parentMode = testPMode, \n",
    "                       cxMode = testCXMode, mutationMode = testMMode, fitness = testFMode)"
   ]
  },
  {
   "cell_type": "code",
   "execution_count": 6,
   "metadata": {},
   "outputs": [],
   "source": [
    "pop.FitnessFunc()"
   ]
  },
  {
   "cell_type": "code",
   "execution_count": 7,
   "metadata": {},
   "outputs": [],
   "source": [
    "pop.CalcProb(\"fitness\")"
   ]
  },
  {
   "cell_type": "code",
   "execution_count": 8,
   "metadata": {},
   "outputs": [],
   "source": [
    "pop.RankPop()"
   ]
  },
  {
   "cell_type": "code",
   "execution_count": 9,
   "metadata": {},
   "outputs": [],
   "source": [
    "pop.CalcProb(\"rank\")"
   ]
  },
  {
   "cell_type": "code",
   "execution_count": null,
   "metadata": {},
   "outputs": [],
   "source": []
  },
  {
   "cell_type": "code",
   "execution_count": null,
   "metadata": {},
   "outputs": [],
   "source": []
  },
  {
   "cell_type": "code",
   "execution_count": 10,
   "metadata": {},
   "outputs": [],
   "source": [
    "pop = ga4b.GA4Beamline(motors = motors, survivorMode = testSMode, parentMode = testPMode, \n",
    "                       cxMode = testCXMode, mutationMode = testMMode, fitness = testFMode)"
   ]
  },
  {
   "cell_type": "code",
   "execution_count": 11,
   "metadata": {},
   "outputs": [
    {
     "ename": "TypeError",
     "evalue": "FitnessFunc() takes 1 positional argument but 2 were given",
     "output_type": "error",
     "traceback": [
      "\u001b[1;31m---------------------------------------------------------------------------\u001b[0m",
      "\u001b[1;31mTypeError\u001b[0m                                 Traceback (most recent call last)",
      "\u001b[1;32m<ipython-input-11-cbf6b04200b1>\u001b[0m in \u001b[0;36m<module>\u001b[1;34m\u001b[0m\n\u001b[0;32m      1\u001b[0m \u001b[1;31m#Evolve population until nGenerations exceeded or critVal achieved\u001b[0m\u001b[1;33m\u001b[0m\u001b[1;33m\u001b[0m\u001b[1;33m\u001b[0m\u001b[0m\n\u001b[1;32m----> 2\u001b[1;33m \u001b[0mpop\u001b[0m\u001b[1;33m.\u001b[0m\u001b[0mMeasure\u001b[0m\u001b[1;33m(\u001b[0m\u001b[0mchildrenOnly\u001b[0m \u001b[1;33m=\u001b[0m \u001b[1;32mFalse\u001b[0m\u001b[1;33m)\u001b[0m\u001b[1;33m\u001b[0m\u001b[1;33m\u001b[0m\u001b[0m\n\u001b[0m\u001b[0;32m      3\u001b[0m \u001b[1;33m\u001b[0m\u001b[0m\n\u001b[0;32m      4\u001b[0m \u001b[1;32mwhile\u001b[0m \u001b[0mpop\u001b[0m\u001b[1;33m.\u001b[0m\u001b[0mfitHistory\u001b[0m\u001b[1;33m[\u001b[0m\u001b[1;34m\"bestFitness\"\u001b[0m\u001b[1;33m]\u001b[0m \u001b[1;33m<\u001b[0m \u001b[0mcritVal\u001b[0m \u001b[1;32mor\u001b[0m \u001b[0mpop\u001b[0m\u001b[1;33m.\u001b[0m\u001b[0mgeneration\u001b[0m \u001b[1;33m<\u001b[0m \u001b[0mnGenerations\u001b[0m\u001b[1;33m:\u001b[0m\u001b[1;33m\u001b[0m\u001b[1;33m\u001b[0m\u001b[0m\n\u001b[0;32m      5\u001b[0m     \u001b[0mpop\u001b[0m\u001b[1;33m.\u001b[0m\u001b[0mSurvivorSel\u001b[0m\u001b[1;33m(\u001b[0m\u001b[1;33m)\u001b[0m\u001b[1;33m\u001b[0m\u001b[1;33m\u001b[0m\u001b[0m\n",
      "\u001b[1;32m~\\Documents\\Programs\\Python Scripts\\JupyterNotebooks\\GA4beamlines\\ga4beamlines.py\u001b[0m in \u001b[0;36mMeasure\u001b[1;34m(self, childrenOnly)\u001b[0m\n\u001b[0;32m    262\u001b[0m             \u001b[0mself\u001b[0m\u001b[1;33m.\u001b[0m\u001b[0mFitnessFunc\u001b[0m\u001b[1;33m(\u001b[0m\u001b[0mself\u001b[0m\u001b[1;33m.\u001b[0m\u001b[0mchildren\u001b[0m\u001b[1;33m)\u001b[0m\u001b[1;33m\u001b[0m\u001b[1;33m\u001b[0m\u001b[0m\n\u001b[0;32m    263\u001b[0m         \u001b[1;32melse\u001b[0m\u001b[1;33m:\u001b[0m\u001b[1;33m\u001b[0m\u001b[1;33m\u001b[0m\u001b[0m\n\u001b[1;32m--> 264\u001b[1;33m             \u001b[0mself\u001b[0m\u001b[1;33m.\u001b[0m\u001b[0mFitnessFunc\u001b[0m\u001b[1;33m(\u001b[0m\u001b[0mself\u001b[0m\u001b[1;33m.\u001b[0m\u001b[0mpopulation\u001b[0m\u001b[1;33m)\u001b[0m\u001b[1;33m\u001b[0m\u001b[1;33m\u001b[0m\u001b[0m\n\u001b[0m\u001b[0;32m    265\u001b[0m \u001b[1;33m\u001b[0m\u001b[0m\n\u001b[0;32m    266\u001b[0m     \u001b[1;31m#################### HELPER FUNCTIONS ####################\u001b[0m\u001b[1;33m\u001b[0m\u001b[1;33m\u001b[0m\u001b[1;33m\u001b[0m\u001b[0m\n",
      "\u001b[1;31mTypeError\u001b[0m: FitnessFunc() takes 1 positional argument but 2 were given"
     ]
    }
   ],
   "source": [
    "#Evolve population until nGenerations exceeded or critVal achieved\n",
    "pop.Measure(childrenOnly = False)\n",
    "\n",
    "while pop.fitHistory[\"bestFitness\"] < critVal or pop.generation < nGenerations:\n",
    "    pop.SurvivorSel()\n",
    "    pop.ParentSel()\n",
    "    pop.Recombine()\n",
    "    pop.Mutate()\n",
    "    pop.Measure()\n",
    "    #Print/plot updates after each generation if desired"
   ]
  },
  {
   "cell_type": "code",
   "execution_count": null,
   "metadata": {},
   "outputs": [],
   "source": [
    "pop.SurvivorSel()"
   ]
  },
  {
   "cell_type": "code",
   "execution_count": null,
   "metadata": {},
   "outputs": [],
   "source": []
  }
 ],
 "metadata": {
  "kernelspec": {
   "display_name": "Python 3",
   "language": "python",
   "name": "python3"
  },
  "language_info": {
   "codemirror_mode": {
    "name": "ipython",
    "version": 3
   },
   "file_extension": ".py",
   "mimetype": "text/x-python",
   "name": "python",
   "nbconvert_exporter": "python",
   "pygments_lexer": "ipython3",
   "version": "3.7.4"
  }
 },
 "nbformat": 4,
 "nbformat_minor": 2
}
