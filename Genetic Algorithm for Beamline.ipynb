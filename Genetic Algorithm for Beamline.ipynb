{
 "cells": [
  {
   "cell_type": "code",
   "execution_count": 1,
   "metadata": {},
   "outputs": [
    {
     "name": "stdout",
     "output_type": "stream",
     "text": [
      "Imported!\n"
     ]
    }
   ],
   "source": [
    "import ga4beamlines as ga4b"
   ]
  },
  {
   "cell_type": "code",
   "execution_count": null,
   "metadata": {},
   "outputs": [],
   "source": [
    "import pandas as pd"
   ]
  },
  {
   "cell_type": "code",
   "execution_count": 2,
   "metadata": {},
   "outputs": [],
   "source": [
    "testSMode = ga4b.sMode[0]\n",
    "testPMode = ga4b.pMode[0]\n",
    "testCXMode = ga4b.cxMode[0]\n",
    "testMMode = ga4b.mMode[0]"
   ]
  },
  {
   "cell_type": "code",
   "execution_count": 3,
   "metadata": {},
   "outputs": [],
   "source": [
    "#Setup parameters\n",
    "nGenerations = 500\n",
    "critVal = 0.9\n",
    "motors = [{\"name\": \"m1\", \"lo\": -5, \"hi\": 5, \"sigma\": 1},\n",
    "          {\"name\": \"m2\", \"lo\": -5, \"hi\": 5, \"sigma\": 1.5},\n",
    "          {\"name\": \"m3\", \"lo\": -5, \"hi\": 5, \"sigma\": 0.5},\n",
    "          {\"name\": \"m4\", \"lo\": -10, \"hi\": 5, \"sigma\": 2},\n",
    "          {\"name\": \"m5\", \"lo\": -5, \"hi\": 5, \"sigma\": 1},\n",
    "          {\"name\": \"m6\", \"lo\": -5, \"hi\": 8, \"sigma\": 1.25},\n",
    "          {\"name\": \"m7\", \"lo\": 0, \"hi\": 10, \"sigma\": 2},\n",
    "          {\"name\": \"m8\", \"lo\": -10, \"hi\": 10, \"sigma\": 3}]"
   ]
  },
  {
   "cell_type": "code",
   "execution_count": 4,
   "metadata": {},
   "outputs": [],
   "source": [
    "pop = ga4b.GA4Beamline(motors = motors, survivorMode = testSMode, parentMode = testPMode, \n",
    "                       cxMode = testCXMode, mutationMode = testMMode, fitness = \"Func\")"
   ]
  },
  {
   "cell_type": "code",
   "execution_count": null,
   "metadata": {},
   "outputs": [],
   "source": [
    "popTest = ga4b.GA4Beamline(motors = motors, survivorMode = {\"name\": \"fish\", \"nElite\": 2}, parentMode = testPMode, \n",
    "                       cxMode = testCXMode, mutationMode = testMMode, fitness = \"Func\")"
   ]
  },
  {
   "cell_type": "code",
   "execution_count": null,
   "metadata": {},
   "outputs": [],
   "source": [
    "df = pd.DataFrame()\n",
    "df"
   ]
  },
  {
   "cell_type": "code",
   "execution_count": null,
   "metadata": {},
   "outputs": [],
   "source": [
    "df[1] = ['chicken', \"fish\"]\n",
    "df"
   ]
  },
  {
   "cell_type": "code",
   "execution_count": null,
   "metadata": {},
   "outputs": [],
   "source": [
    "df[\"Cat\"] = ['chicken', \"fish\"]\n",
    "df"
   ]
  },
  {
   "cell_type": "code",
   "execution_count": null,
   "metadata": {},
   "outputs": [],
   "source": [
    "nums = [i for i in range(0,10)]\n",
    "nums"
   ]
  },
  {
   "cell_type": "code",
   "execution_count": null,
   "metadata": {},
   "outputs": [],
   "source": [
    "nums[0:5]"
   ]
  },
  {
   "cell_type": "code",
   "execution_count": null,
   "metadata": {},
   "outputs": [],
   "source": [
    "nums[5:]"
   ]
  },
  {
   "cell_type": "code",
   "execution_count": null,
   "metadata": {},
   "outputs": [],
   "source": []
  }
 ],
 "metadata": {
  "kernelspec": {
   "display_name": "Python 3",
   "language": "python",
   "name": "python3"
  },
  "language_info": {
   "codemirror_mode": {
    "name": "ipython",
    "version": 3
   },
   "file_extension": ".py",
   "mimetype": "text/x-python",
   "name": "python",
   "nbconvert_exporter": "python",
   "pygments_lexer": "ipython3",
   "version": "3.7.4"
  }
 },
 "nbformat": 4,
 "nbformat_minor": 2
}
