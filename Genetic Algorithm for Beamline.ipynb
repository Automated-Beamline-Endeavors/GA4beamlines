{
 "cells": [
  {
   "cell_type": "code",
   "execution_count": 1,
   "metadata": {},
   "outputs": [
    {
     "name": "stdout",
     "output_type": "stream",
     "text": [
      "Imported!\n",
      "I've been imported!\n"
     ]
    }
   ],
   "source": [
    "import ga4beamlines as ga4b"
   ]
  },
  {
   "cell_type": "code",
   "execution_count": 2,
   "metadata": {},
   "outputs": [],
   "source": [
    "%matplotlib notebook\n",
    "import matplotlib.pyplot as plt"
   ]
  },
  {
   "cell_type": "code",
   "execution_count": 3,
   "metadata": {},
   "outputs": [],
   "source": [
    "import pandas as pd\n",
    "import numpy as np"
   ]
  },
  {
   "cell_type": "code",
   "execution_count": 4,
   "metadata": {},
   "outputs": [],
   "source": [
    "testSMode = ga4b.sMode[0]\n",
    "testPMode = ga4b.pMode[0]\n",
    "testCXMode = ga4b.cxMode[0]\n",
    "testMMode = ga4b.mMode[0]\n",
    "testFMode = ga4b.fMode[0]"
   ]
  },
  {
   "cell_type": "code",
   "execution_count": 5,
   "metadata": {},
   "outputs": [],
   "source": [
    "#Setup parameters\n",
    "nGenerations = 500\n",
    "critVal = 0.9\n",
    "motors = [{\"name\": \"m1\", \"lo\": -5, \"hi\": 5, \"sigma\": 1},\n",
    "          {\"name\": \"m2\", \"lo\": -5, \"hi\": 5, \"sigma\": 1.5},\n",
    "          {\"name\": \"m3\", \"lo\": -5, \"hi\": 5, \"sigma\": 0.5},\n",
    "          {\"name\": \"m4\", \"lo\": -10, \"hi\": 5, \"sigma\": 2},\n",
    "          {\"name\": \"m5\", \"lo\": -5, \"hi\": 5, \"sigma\": 1},\n",
    "          {\"name\": \"m6\", \"lo\": -5, \"hi\": 8, \"sigma\": 1.25},\n",
    "          {\"name\": \"m7\", \"lo\": 0, \"hi\": 10, \"sigma\": 2},\n",
    "          {\"name\": \"m8\", \"lo\": -10, \"hi\": 10, \"sigma\": 3}]"
   ]
  },
  {
   "cell_type": "code",
   "execution_count": 6,
   "metadata": {},
   "outputs": [],
   "source": [
    "def PlotResults(pop):\n",
    "    plt.plot(pop.fitHistory)\n",
    "    plt.title(\n",
    "    f\"\"\"Fitness History of Population\\nSurvivor Method: {pop.sSel['name']}, Num. Elite: {pop.sSel['nElite']}\n",
    "    Parent Method: {pop.pSel['name']}, S: {pop.pSel['s']}\n",
    "    Child Method: {pop.cxMode['name']}, Alpha: {pop.cxMode['alpha']}\n",
    "    Mutation Method: {pop.mMode['name']}\n",
    "    Population Size: {pop.nPop}\"\"\")\n",
    "    plt.ylabel('Fitness')\n",
    "    plt.xlabel('Generation')\n",
    "    plt.legend(pop.fitHistory, loc = \"upper right\", title=\"Runs\")\n",
    "    plt.tight_layout()\n",
    "    plt.show()"
   ]
  },
  {
   "cell_type": "code",
   "execution_count": null,
   "metadata": {},
   "outputs": [],
   "source": []
  },
  {
   "cell_type": "code",
   "execution_count": null,
   "metadata": {},
   "outputs": [],
   "source": []
  },
  {
   "cell_type": "code",
   "execution_count": 7,
   "metadata": {},
   "outputs": [],
   "source": [
    "pop = ga4b.GA4Beamline(motors = motors, \n",
    "                       survivorMode = {\"name\": \"age\", \"nElite\": 0}, \n",
    "                       parentMode = {\"name\": \"probRank\", \"s\": 1.5}, \n",
    "                       cxMode = {\"name\": \"single\", \"alpha\": 0.5}, \n",
    "                       mutationMode = {\"name\": \"uniform\"}, \n",
    "                       fitness = testFMode,\n",
    "                       nPop = 10)"
   ]
  },
  {
   "cell_type": "code",
   "execution_count": 8,
   "metadata": {},
   "outputs": [],
   "source": [
    "pop = ga4b.GA4Beamline(motors = motors, \n",
    "                       survivorMode = {\"name\": \"age\", \"nElite\": 2}, \n",
    "                       parentMode = {\"name\": \"probRank\", \"s\": 1.5}, \n",
    "                       cxMode = {\"name\": \"single\", \"alpha\": 0.5}, \n",
    "                       mutationMode = {\"name\": \"uniform\"}, \n",
    "                       fitness = testFMode,\n",
    "                       nPop = 10)"
   ]
  },
  {
   "cell_type": "code",
   "execution_count": 9,
   "metadata": {},
   "outputs": [],
   "source": [
    "pop = ga4b.GA4Beamline(motors = motors, \n",
    "                       survivorMode = {\"name\": \"age\", \"nElite\": 2}, \n",
    "                       parentMode = {\"name\": \"probRank\", \"s\": 1.5}, \n",
    "                       cxMode = {\"name\": \"single\", \"alpha\": 0.5}, \n",
    "                       mutationMode = {\"name\": \"gaussian\"}, \n",
    "                       fitness = testFMode,\n",
    "                       nPop = 10)"
   ]
  },
  {
   "cell_type": "code",
   "execution_count": 10,
   "metadata": {},
   "outputs": [],
   "source": [
    "pop = ga4b.GA4Beamline(motors = motors, \n",
    "                       survivorMode = {\"name\": \"age\", \"nElite\": 2}, \n",
    "                       parentMode = {\"name\": \"probRank\", \"s\": 1.5}, \n",
    "                       cxMode = {\"name\": \"simple\", \"alpha\": 0.5}, \n",
    "                       mutationMode = {\"name\": \"gaussian\"}, \n",
    "                       fitness = testFMode,\n",
    "                       nPop = 10)"
   ]
  },
  {
   "cell_type": "code",
   "execution_count": 11,
   "metadata": {},
   "outputs": [],
   "source": [
    "pop = ga4b.GA4Beamline(motors = motors, \n",
    "                       survivorMode = {\"name\": \"age\", \"nElite\": 2}, \n",
    "                       parentMode = {\"name\": \"probRank\", \"s\": 1.5}, \n",
    "                       cxMode = {\"name\": \"simple\", \"alpha\": 0.75}, \n",
    "                       mutationMode = {\"name\": \"gaussian\"}, \n",
    "                       fitness = testFMode,\n",
    "                       nPop = 10)"
   ]
  },
  {
   "cell_type": "code",
   "execution_count": 12,
   "metadata": {},
   "outputs": [],
   "source": [
    "pop = ga4b.GA4Beamline(motors = motors, \n",
    "                       survivorMode = {\"name\": \"genitor\", \"nElite\": 0}, \n",
    "                       parentMode = {\"name\": \"probRank\", \"s\": 1.5}, \n",
    "                       cxMode = {\"name\": \"simple\", \"alpha\": 0.75}, \n",
    "                       mutationMode = {\"name\": \"gaussian\"}, \n",
    "                       fitness = testFMode,\n",
    "                       nPop = 10)"
   ]
  },
  {
   "cell_type": "code",
   "execution_count": 13,
   "metadata": {},
   "outputs": [],
   "source": [
    "pop = ga4b.GA4Beamline(motors = motors, \n",
    "                       survivorMode = {\"name\": \"age\", \"nElite\": 2}, \n",
    "                       parentMode = {\"name\": \"probFit\", \"s\": 1.5}, \n",
    "                       cxMode = {\"name\": \"simple\", \"alpha\": 0.75}, \n",
    "                       mutationMode = {\"name\": \"gaussian\"}, \n",
    "                       fitness = testFMode,\n",
    "                       nPop = 10)"
   ]
  },
  {
   "cell_type": "code",
   "execution_count": 14,
   "metadata": {},
   "outputs": [],
   "source": [
    "pop = ga4b.GA4Beamline(motors = motors, \n",
    "                       survivorMode = {\"name\": \"age\", \"nElite\": 2}, \n",
    "                       parentMode = {\"name\": \"probRank\", \"s\": 1.5}, \n",
    "                       cxMode = {\"name\": \"whole\", \"alpha\": 0.75}, \n",
    "                       mutationMode = {\"name\": \"gaussian\"}, \n",
    "                       fitness = testFMode,\n",
    "                       nPop = 10)"
   ]
  },
  {
   "cell_type": "code",
   "execution_count": null,
   "metadata": {},
   "outputs": [],
   "source": []
  },
  {
   "cell_type": "code",
   "execution_count": null,
   "metadata": {},
   "outputs": [],
   "source": []
  },
  {
   "cell_type": "code",
   "execution_count": 15,
   "metadata": {},
   "outputs": [],
   "source": [
    "motors = [{\"name\": \"m1\", \"lo\": -5, \"hi\": 5, \"sigma\": 1},\n",
    "          {\"name\": \"m2\", \"lo\": -5, \"hi\": 5, \"sigma\": 1},\n",
    "          {\"name\": \"m3\", \"lo\": -5, \"hi\": 5, \"sigma\": 1},\n",
    "          {\"name\": \"m4\", \"lo\": -5, \"hi\": 5, \"sigma\": 1},\n",
    "          {\"name\": \"m5\", \"lo\": -5, \"hi\": 5, \"sigma\": 1},\n",
    "          {\"name\": \"m6\", \"lo\": -5, \"hi\": 5, \"sigma\": 1},\n",
    "          {\"name\": \"m7\", \"lo\": -5, \"hi\": 5, \"sigma\": 1},\n",
    "          {\"name\": \"m8\", \"lo\": -5, \"hi\": 5, \"sigma\": 1}]"
   ]
  },
  {
   "cell_type": "code",
   "execution_count": 34,
   "metadata": {},
   "outputs": [],
   "source": [
    "motors = [{\"name\": \"m1\", \"lo\": -5, \"hi\": 5, \"sigma\": .1},\n",
    "          {\"name\": \"m2\", \"lo\": -5, \"hi\": 5, \"sigma\": .1},\n",
    "          {\"name\": \"m3\", \"lo\": -5, \"hi\": 5, \"sigma\": .1},\n",
    "          {\"name\": \"m4\", \"lo\": -10, \"hi\": 5, \"sigma\": .1},\n",
    "          {\"name\": \"m5\", \"lo\": -5, \"hi\": 5, \"sigma\": .1},\n",
    "          {\"name\": \"m6\", \"lo\": -5, \"hi\": 8, \"sigma\": .1},\n",
    "          {\"name\": \"m7\", \"lo\": 0, \"hi\": 10, \"sigma\": .1},\n",
    "          {\"name\": \"m8\", \"lo\": -10, \"hi\": 10, \"sigma\": .1}]"
   ]
  },
  {
   "cell_type": "code",
   "execution_count": 35,
   "metadata": {},
   "outputs": [],
   "source": [
    "pop = ga4b.GA4Beamline(motors = motors, \n",
    "                       survivorMode = {\"name\": \"age\", \"nElite\": 0}, \n",
    "                       parentMode = {\"name\": \"probFit\", \"s\": 1.5}, \n",
    "                       cxMode = {\"name\": \"whole\", \"alpha\": 0.75}, \n",
    "                       mutationMode = {\"name\": \"gaussian\"}, \n",
    "                       fitness = testFMode,\n",
    "                       nPop = 10)"
   ]
  },
  {
   "cell_type": "code",
   "execution_count": 36,
   "metadata": {
    "scrolled": false
   },
   "outputs": [],
   "source": [
    "pop.FirstGeneration()\n",
    "pop.NextGeneration()"
   ]
  },
  {
   "cell_type": "code",
   "execution_count": 37,
   "metadata": {},
   "outputs": [],
   "source": [
    "pop.NextGeneration()"
   ]
  },
  {
   "cell_type": "code",
   "execution_count": 38,
   "metadata": {},
   "outputs": [
    {
     "data": {
      "text/html": [
       "<div>\n",
       "<style scoped>\n",
       "    .dataframe tbody tr th:only-of-type {\n",
       "        vertical-align: middle;\n",
       "    }\n",
       "\n",
       "    .dataframe tbody tr th {\n",
       "        vertical-align: top;\n",
       "    }\n",
       "\n",
       "    .dataframe thead th {\n",
       "        text-align: right;\n",
       "    }\n",
       "</style>\n",
       "<table border=\"1\" class=\"dataframe\">\n",
       "  <thead>\n",
       "    <tr style=\"text-align: right;\">\n",
       "      <th></th>\n",
       "      <th>m1</th>\n",
       "      <th>m2</th>\n",
       "      <th>m3</th>\n",
       "      <th>m4</th>\n",
       "      <th>m5</th>\n",
       "      <th>m6</th>\n",
       "      <th>m7</th>\n",
       "      <th>m8</th>\n",
       "      <th>fitness</th>\n",
       "      <th>ranking</th>\n",
       "      <th>probability</th>\n",
       "    </tr>\n",
       "  </thead>\n",
       "  <tbody>\n",
       "    <tr>\n",
       "      <td>0</td>\n",
       "      <td>1.014218</td>\n",
       "      <td>0.540996</td>\n",
       "      <td>-2.929151</td>\n",
       "      <td>-3.276359</td>\n",
       "      <td>-0.885212</td>\n",
       "      <td>0.779286</td>\n",
       "      <td>2.970102</td>\n",
       "      <td>2.280867</td>\n",
       "      <td>0.323706</td>\n",
       "      <td>8.50</td>\n",
       "      <td>0.127805</td>\n",
       "    </tr>\n",
       "    <tr>\n",
       "      <td>1</td>\n",
       "      <td>0.114999</td>\n",
       "      <td>1.337151</td>\n",
       "      <td>-2.631306</td>\n",
       "      <td>-2.796426</td>\n",
       "      <td>-1.116661</td>\n",
       "      <td>1.306741</td>\n",
       "      <td>2.818955</td>\n",
       "      <td>0.794994</td>\n",
       "      <td>0.320506</td>\n",
       "      <td>7.50</td>\n",
       "      <td>0.115279</td>\n",
       "    </tr>\n",
       "    <tr>\n",
       "      <td>2</td>\n",
       "      <td>-0.634915</td>\n",
       "      <td>1.239554</td>\n",
       "      <td>-2.521051</td>\n",
       "      <td>-2.094208</td>\n",
       "      <td>-2.236250</td>\n",
       "      <td>0.822052</td>\n",
       "      <td>3.594555</td>\n",
       "      <td>-0.189739</td>\n",
       "      <td>0.319958</td>\n",
       "      <td>5.00</td>\n",
       "      <td>0.102642</td>\n",
       "    </tr>\n",
       "    <tr>\n",
       "      <td>3</td>\n",
       "      <td>-1.461810</td>\n",
       "      <td>-0.182228</td>\n",
       "      <td>-1.661930</td>\n",
       "      <td>-0.849374</td>\n",
       "      <td>-3.221205</td>\n",
       "      <td>-0.334764</td>\n",
       "      <td>5.331341</td>\n",
       "      <td>-0.577178</td>\n",
       "      <td>0.305391</td>\n",
       "      <td>3.00</td>\n",
       "      <td>0.095045</td>\n",
       "    </tr>\n",
       "    <tr>\n",
       "      <td>4</td>\n",
       "      <td>-0.311245</td>\n",
       "      <td>2.331249</td>\n",
       "      <td>-2.809123</td>\n",
       "      <td>-2.564519</td>\n",
       "      <td>-1.064992</td>\n",
       "      <td>2.141426</td>\n",
       "      <td>2.626619</td>\n",
       "      <td>-0.019415</td>\n",
       "      <td>0.288998</td>\n",
       "      <td>6.25</td>\n",
       "      <td>0.107360</td>\n",
       "    </tr>\n",
       "    <tr>\n",
       "      <td>5</td>\n",
       "      <td>-0.819222</td>\n",
       "      <td>3.005706</td>\n",
       "      <td>-3.602057</td>\n",
       "      <td>-1.964960</td>\n",
       "      <td>-0.304438</td>\n",
       "      <td>3.680834</td>\n",
       "      <td>3.029324</td>\n",
       "      <td>-1.620597</td>\n",
       "      <td>0.285984</td>\n",
       "      <td>3.75</td>\n",
       "      <td>0.099770</td>\n",
       "    </tr>\n",
       "    <tr>\n",
       "      <td>6</td>\n",
       "      <td>-0.809732</td>\n",
       "      <td>2.768139</td>\n",
       "      <td>-3.340150</td>\n",
       "      <td>-2.354928</td>\n",
       "      <td>-0.547367</td>\n",
       "      <td>3.251241</td>\n",
       "      <td>2.360077</td>\n",
       "      <td>-0.939465</td>\n",
       "      <td>0.284734</td>\n",
       "      <td>4.75</td>\n",
       "      <td>0.104046</td>\n",
       "    </tr>\n",
       "    <tr>\n",
       "      <td>7</td>\n",
       "      <td>-0.209892</td>\n",
       "      <td>2.593551</td>\n",
       "      <td>-3.303588</td>\n",
       "      <td>-2.683803</td>\n",
       "      <td>-1.222043</td>\n",
       "      <td>2.255381</td>\n",
       "      <td>2.698993</td>\n",
       "      <td>-0.524603</td>\n",
       "      <td>0.282370</td>\n",
       "      <td>5.25</td>\n",
       "      <td>0.104217</td>\n",
       "    </tr>\n",
       "    <tr>\n",
       "      <td>8</td>\n",
       "      <td>-1.737785</td>\n",
       "      <td>0.551358</td>\n",
       "      <td>-1.856725</td>\n",
       "      <td>-0.822784</td>\n",
       "      <td>-2.966035</td>\n",
       "      <td>0.183713</td>\n",
       "      <td>5.463784</td>\n",
       "      <td>-0.879027</td>\n",
       "      <td>0.259429</td>\n",
       "      <td>2.50</td>\n",
       "      <td>0.094032</td>\n",
       "    </tr>\n",
       "    <tr>\n",
       "      <td>9</td>\n",
       "      <td>-1.396885</td>\n",
       "      <td>2.378821</td>\n",
       "      <td>-3.115052</td>\n",
       "      <td>-1.854282</td>\n",
       "      <td>-1.043965</td>\n",
       "      <td>2.583483</td>\n",
       "      <td>3.622095</td>\n",
       "      <td>-1.370183</td>\n",
       "      <td>0.228008</td>\n",
       "      <td>3.50</td>\n",
       "      <td>0.099603</td>\n",
       "    </tr>\n",
       "  </tbody>\n",
       "</table>\n",
       "</div>"
      ],
      "text/plain": [
       "         m1        m2        m3        m4        m5        m6        m7  \\\n",
       "0  1.014218  0.540996 -2.929151 -3.276359 -0.885212  0.779286  2.970102   \n",
       "1  0.114999  1.337151 -2.631306 -2.796426 -1.116661  1.306741  2.818955   \n",
       "2 -0.634915  1.239554 -2.521051 -2.094208 -2.236250  0.822052  3.594555   \n",
       "3 -1.461810 -0.182228 -1.661930 -0.849374 -3.221205 -0.334764  5.331341   \n",
       "4 -0.311245  2.331249 -2.809123 -2.564519 -1.064992  2.141426  2.626619   \n",
       "5 -0.819222  3.005706 -3.602057 -1.964960 -0.304438  3.680834  3.029324   \n",
       "6 -0.809732  2.768139 -3.340150 -2.354928 -0.547367  3.251241  2.360077   \n",
       "7 -0.209892  2.593551 -3.303588 -2.683803 -1.222043  2.255381  2.698993   \n",
       "8 -1.737785  0.551358 -1.856725 -0.822784 -2.966035  0.183713  5.463784   \n",
       "9 -1.396885  2.378821 -3.115052 -1.854282 -1.043965  2.583483  3.622095   \n",
       "\n",
       "         m8   fitness  ranking  probability  \n",
       "0  2.280867  0.323706     8.50     0.127805  \n",
       "1  0.794994  0.320506     7.50     0.115279  \n",
       "2 -0.189739  0.319958     5.00     0.102642  \n",
       "3 -0.577178  0.305391     3.00     0.095045  \n",
       "4 -0.019415  0.288998     6.25     0.107360  \n",
       "5 -1.620597  0.285984     3.75     0.099770  \n",
       "6 -0.939465  0.284734     4.75     0.104046  \n",
       "7 -0.524603  0.282370     5.25     0.104217  \n",
       "8 -0.879027  0.259429     2.50     0.094032  \n",
       "9 -1.370183  0.228008     3.50     0.099603  "
      ]
     },
     "execution_count": 38,
     "metadata": {},
     "output_type": "execute_result"
    }
   ],
   "source": [
    "pop.population"
   ]
  },
  {
   "cell_type": "code",
   "execution_count": null,
   "metadata": {},
   "outputs": [],
   "source": []
  },
  {
   "cell_type": "code",
   "execution_count": 21,
   "metadata": {
    "scrolled": true
   },
   "outputs": [
    {
     "name": "stdout",
     "output_type": "stream",
     "text": [
      "Starting Conditions: 0.4592276761199542\n",
      "Final Conditions: 0.444722998305513\n"
     ]
    }
   ],
   "source": [
    "#Evolve population until nGenerations exceeded or critVal achieved\n",
    "pop.FirstGeneration() \n",
    "\n",
    "print(f'Starting Conditions: {pop.fitHistory[\"peakFitness\"][pop.generation - 1].tolist()}')\n",
    "      \n",
    "while pop.fitHistory[\"peakFitness\"][pop.generation - 1] < critVal and pop.generation < nGenerations:\n",
    "    pop.NextGeneration()\n",
    "      \n",
    "    #Print/plot updates after each generation if desired\n",
    "print(f'Final Conditions: {pop.fitHistory[\"peakFitness\"][pop.generation - 1].tolist()}')"
   ]
  },
  {
   "cell_type": "code",
   "execution_count": null,
   "metadata": {},
   "outputs": [],
   "source": []
  },
  {
   "cell_type": "code",
   "execution_count": null,
   "metadata": {},
   "outputs": [],
   "source": []
  },
  {
   "cell_type": "markdown",
   "metadata": {},
   "source": [
    "## Some Plots\n",
    "I was playing around with settings to see their effects.  These did not start from the same initial population, but I still wanted to plot them to get a sense of their performance.\n",
    "\n",
    "This also is not an exhaustive list of the combinations.  I just tried tweaking a few and building off of those that seemed to cause improvements."
   ]
  },
  {
   "cell_type": "code",
   "execution_count": null,
   "metadata": {},
   "outputs": [],
   "source": [
    "PlotResults(pop)"
   ]
  },
  {
   "cell_type": "code",
   "execution_count": 23,
   "metadata": {},
   "outputs": [],
   "source": [
    "PlotResults(pop)"
   ]
  },
  {
   "cell_type": "code",
   "execution_count": 24,
   "metadata": {},
   "outputs": [],
   "source": [
    "PlotResults(pop)"
   ]
  },
  {
   "cell_type": "code",
   "execution_count": 25,
   "metadata": {},
   "outputs": [],
   "source": [
    "PlotResults(pop)"
   ]
  },
  {
   "cell_type": "code",
   "execution_count": 26,
   "metadata": {},
   "outputs": [],
   "source": [
    "PlotResults(pop)"
   ]
  },
  {
   "cell_type": "code",
   "execution_count": 27,
   "metadata": {},
   "outputs": [],
   "source": [
    "PlotResults(pop)"
   ]
  },
  {
   "cell_type": "code",
   "execution_count": 28,
   "metadata": {},
   "outputs": [],
   "source": [
    "PlotResults(pop)"
   ]
  },
  {
   "cell_type": "code",
   "execution_count": 29,
   "metadata": {},
   "outputs": [],
   "source": [
    "PlotResults(pop)"
   ]
  },
  {
   "cell_type": "code",
   "execution_count": null,
   "metadata": {},
   "outputs": [],
   "source": []
  },
  {
   "cell_type": "code",
   "execution_count": null,
   "metadata": {},
   "outputs": [],
   "source": []
  },
  {
   "cell_type": "code",
   "execution_count": null,
   "metadata": {},
   "outputs": [],
   "source": []
  },
  {
   "cell_type": "code",
   "execution_count": 30,
   "metadata": {},
   "outputs": [
    {
     "data": {
      "text/html": [
       "<div>\n",
       "<style scoped>\n",
       "    .dataframe tbody tr th:only-of-type {\n",
       "        vertical-align: middle;\n",
       "    }\n",
       "\n",
       "    .dataframe tbody tr th {\n",
       "        vertical-align: top;\n",
       "    }\n",
       "\n",
       "    .dataframe thead th {\n",
       "        text-align: right;\n",
       "    }\n",
       "</style>\n",
       "<table border=\"1\" class=\"dataframe\">\n",
       "  <thead>\n",
       "    <tr style=\"text-align: right;\">\n",
       "      <th></th>\n",
       "      <th>item1</th>\n",
       "      <th>item2</th>\n",
       "      <th>item3</th>\n",
       "    </tr>\n",
       "  </thead>\n",
       "  <tbody>\n",
       "    <tr>\n",
       "      <td>0</td>\n",
       "      <td>1</td>\n",
       "      <td>5</td>\n",
       "      <td>9</td>\n",
       "    </tr>\n",
       "    <tr>\n",
       "      <td>1</td>\n",
       "      <td>2</td>\n",
       "      <td>6</td>\n",
       "      <td>10</td>\n",
       "    </tr>\n",
       "    <tr>\n",
       "      <td>2</td>\n",
       "      <td>3</td>\n",
       "      <td>7</td>\n",
       "      <td>11</td>\n",
       "    </tr>\n",
       "    <tr>\n",
       "      <td>3</td>\n",
       "      <td>4</td>\n",
       "      <td>8</td>\n",
       "      <td>12</td>\n",
       "    </tr>\n",
       "  </tbody>\n",
       "</table>\n",
       "</div>"
      ],
      "text/plain": [
       "   item1  item2  item3\n",
       "0      1      5      9\n",
       "1      2      6     10\n",
       "2      3      7     11\n",
       "3      4      8     12"
      ]
     },
     "execution_count": 30,
     "metadata": {},
     "output_type": "execute_result"
    }
   ],
   "source": [
    "lst1 = [1,2,3,4]\n",
    "lst2 = [5,6,7,8]\n",
    "lst3 = [9,10,11,12]\n",
    "\n",
    "df = pd.DataFrame({\"item1\": lst1, \"item2\": lst2, \"item3\": lst3})\n",
    "df"
   ]
  },
  {
   "cell_type": "code",
   "execution_count": 31,
   "metadata": {},
   "outputs": [
    {
     "data": {
      "text/plain": [
       "1"
      ]
     },
     "execution_count": 31,
     "metadata": {},
     "output_type": "execute_result"
    }
   ],
   "source": [
    "df[\"item1\"][0]"
   ]
  },
  {
   "cell_type": "code",
   "execution_count": 32,
   "metadata": {},
   "outputs": [],
   "source": [
    "lst4 = [13,14,15]\n",
    "lst5 = [16,17,18]"
   ]
  },
  {
   "cell_type": "code",
   "execution_count": 33,
   "metadata": {},
   "outputs": [
    {
     "data": {
      "text/html": [
       "<div>\n",
       "<style scoped>\n",
       "    .dataframe tbody tr th:only-of-type {\n",
       "        vertical-align: middle;\n",
       "    }\n",
       "\n",
       "    .dataframe tbody tr th {\n",
       "        vertical-align: top;\n",
       "    }\n",
       "\n",
       "    .dataframe thead th {\n",
       "        text-align: right;\n",
       "    }\n",
       "</style>\n",
       "<table border=\"1\" class=\"dataframe\">\n",
       "  <thead>\n",
       "    <tr style=\"text-align: right;\">\n",
       "      <th></th>\n",
       "      <th>item1</th>\n",
       "      <th>item2</th>\n",
       "      <th>item3</th>\n",
       "    </tr>\n",
       "  </thead>\n",
       "  <tbody>\n",
       "    <tr>\n",
       "      <td>0</td>\n",
       "      <td>13</td>\n",
       "      <td>14</td>\n",
       "      <td>15</td>\n",
       "    </tr>\n",
       "    <tr>\n",
       "      <td>1</td>\n",
       "      <td>16</td>\n",
       "      <td>17</td>\n",
       "      <td>18</td>\n",
       "    </tr>\n",
       "    <tr>\n",
       "      <td>2</td>\n",
       "      <td>3</td>\n",
       "      <td>7</td>\n",
       "      <td>11</td>\n",
       "    </tr>\n",
       "    <tr>\n",
       "      <td>3</td>\n",
       "      <td>4</td>\n",
       "      <td>8</td>\n",
       "      <td>12</td>\n",
       "    </tr>\n",
       "  </tbody>\n",
       "</table>\n",
       "</div>"
      ],
      "text/plain": [
       "   item1  item2  item3\n",
       "0     13     14     15\n",
       "1     16     17     18\n",
       "2      3      7     11\n",
       "3      4      8     12"
      ]
     },
     "execution_count": 33,
     "metadata": {},
     "output_type": "execute_result"
    }
   ],
   "source": [
    "df.iloc[0:2,:] = lst4,lst5\n",
    "df"
   ]
  },
  {
   "cell_type": "code",
   "execution_count": null,
   "metadata": {},
   "outputs": [],
   "source": []
  }
 ],
 "metadata": {
  "kernelspec": {
   "display_name": "Python 3",
   "language": "python",
   "name": "python3"
  },
  "language_info": {
   "codemirror_mode": {
    "name": "ipython",
    "version": 3
   },
   "file_extension": ".py",
   "mimetype": "text/x-python",
   "name": "python",
   "nbconvert_exporter": "python",
   "pygments_lexer": "ipython3",
   "version": "3.7.4"
  }
 },
 "nbformat": 4,
 "nbformat_minor": 2
}
